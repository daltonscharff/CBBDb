{
 "cells": [
  {
   "cell_type": "code",
   "execution_count": 2,
   "metadata": {},
   "outputs": [],
   "source": [
    "from dotenv import load_dotenv\n",
    "import pandas as pd\n",
    "import numpy as np\n",
    "import json\n",
    "from sources import earwolf, rss"
   ]
  },
  {
   "cell_type": "code",
   "execution_count": 4,
   "metadata": {},
   "outputs": [
    {
     "output_type": "stream",
     "name": "stdout",
     "text": [
      "STARTING EARWOLF\n",
      "Could not parse number for <li>Ep #UB1 - <a href=\"/episode/bonus-the-mysterious-secrets-of-uncle-berties-botanarium-episode-1/\">Bonus! The Mysterious Secrets Of Uncle Bertie’s Botanarium – Episode 1</a> (<span>Jemaine Clement</span>)</li>\n",
      "Could not parse number for <li>Ep #B3 - <a href=\"/episode/live-from-ucb-ny/\">Live from UCB NY!</a> (<span>Zach Galifianakis</span>, <span>David Cross</span>, <span>Todd Barry</span>, <span>John Gemberling</span> &amp; <span>Ted Leo</span>)</li>\n",
      "Could not parse number for <li>Ep #B2 - <a href=\"/episode/live-from-sf-sketchfest/\">Live from SF Sketchfest!</a> (<span>Doug Benson</span>, <span>Michael Ian Black</span>, <span>Dana Gould</span>, <span>Paul F. Tompkins</span> &amp; <span>Reggie Watts</span>)</li>\n",
      "Could not parse number for <li>Ep #B1 - <a href=\"/episode/live-from-vancouver/\">Live from Vancouver!</a> (<span>Todd Barry</span>, <span>Nick Thune</span>, <span>Paul F. Tompkins</span>, <span>Garfunkel &amp; Oates</span> &amp; <span>Reggie Watts</span>)</li>\n",
      "Could not parse number for <li>Ep # - <a href=\"/episode/find-full-archive-of-comedy-bang-bang-on-stitcher-premium/\">Find Full Archive of Comedy Bang Bang on Stitcher Premium</a> </li>\n",
      "{'number': '692', 'bestOf': False, 'title': 'Chalke Talk, Structure-A-Stuffy & Tunt', 'earwolfUrl': 'https://www.earwolf.com/episode/chalke-talk-structure-a-stuffy-tunt/', 'guests': '[\"Sarah Chalke\", \"Paul F. Tompkins\", \"Katie Rich\"]', 'live': False}\n",
      "STARTING RSS\n",
      "Could not parse number for Comedy Bang! Bang! Presents: We Have To Stop Talking TMNT on CBB\n",
      "Could not parse number for R U Talkin' R.E.M. RE: ME?\n",
      "Could not parse number for Bonus: Live from UCB Theatre New York\n",
      "Could not parse number for Bonus: Live from SF Sketch Fest\n",
      "Could not parse number for Bonus: Live from Vancouver Comedy Fest\n"
     ]
    }
   ],
   "source": [
    "# Scrape data from sources and write to file\n",
    "\n",
    "earwolf_eps = earwolf.scrape()\n",
    "earwolf_eps.to_csv(\"data/earwolf_episodes.csv\", index=False)\n",
    "\n",
    "rss_eps = rss.scrape()\n",
    "rss_eps.to_csv(\"data/rss_episodes.csv\", index=False)"
   ]
  },
  {
   "cell_type": "code",
   "execution_count": 57,
   "metadata": {},
   "outputs": [],
   "source": [
    "# Read separate episode sources and merge\n",
    "\n",
    "earwolf_eps = pd.read_csv(\"data/earwolf_episodes.csv\")\n",
    "rss_eps = pd.read_csv(\"data/rss_episodes.csv\")\n",
    "\n",
    "episodes = pd.merge(earwolf_eps, rss_eps, on=[\"number\", \"bestOf\", \"live\"], how=\"inner\")\n",
    "\n",
    "episodes.rename(columns={\"guests_x\":\"guests\"}, inplace=True)\n",
    "del episodes['guests_y']\n",
    "\n",
    "episodes.to_csv(\"data/merged_episodes.csv\", index=False)"
   ]
  },
  {
   "source": [
    "Remove duplicates and fix misspellings"
   ],
   "cell_type": "markdown",
   "metadata": {}
  },
  {
   "cell_type": "code",
   "execution_count": 56,
   "metadata": {
    "tags": []
   },
   "outputs": [],
   "source": [
    "# Count number of appearances per guest\n",
    "\n",
    "episodes = pd.read_csv(\"data/merged_episodes_edited.csv\")\n",
    "\n",
    "all_guests = []\n",
    "for guest_list in episodes[\"guests\"]:\n",
    "    for guest in json.loads(guest_list):\n",
    "        all_guests.append(guest)\n",
    "\n",
    "guest_appearances = pd.Series(name=\"numberOfAppearances\", data=all_guests).value_counts()\n",
    "guest_appearances.to_csv(\"data/guests.csv\")"
   ]
  }
 ],
 "metadata": {
  "kernelspec": {
   "display_name": "Python 3",
   "language": "python",
   "name": "python3"
  },
  "language_info": {
   "codemirror_mode": {
    "name": "ipython",
    "version": 3
   },
   "file_extension": ".py",
   "mimetype": "text/x-python",
   "name": "python",
   "nbconvert_exporter": "python",
   "pygments_lexer": "ipython3",
   "version": "3.8.2-final"
  }
 },
 "nbformat": 4,
 "nbformat_minor": 4
}