{
 "cells": [
  {
   "cell_type": "code",
   "execution_count": null,
   "metadata": {},
   "outputs": [],
   "source": [
    "from dotenv import load_dotenv\n",
    "import pandas as pd\n",
    "import json\n",
    "import importlib\n",
    "from sources import earwolf, rss\n",
    "import contentful\n",
    "\n",
    "load_dotenv()"
   ]
  },
  {
   "cell_type": "code",
   "execution_count": null,
   "metadata": {},
   "outputs": [],
   "source": [
    "# Scrape data from sources and write to file\n",
    "\n",
    "earwolf_eps = earwolf.scrape()\n",
    "earwolf_eps.to_csv(\"data/episodes/episodes_earwolf.csv\", index=False)\n",
    "\n",
    "rss_eps = rss.scrape()\n",
    "rss_eps.to_csv(\"data/episodes/episodes_rss.csv\", index=False)"
   ]
  },
  {
   "cell_type": "code",
   "execution_count": null,
   "metadata": {},
   "outputs": [],
   "source": [
    "# Read separate episode sources and merge\n",
    "\n",
    "earwolf_eps = pd.read_csv(\"data/episodes/episodes_earwolf.csv\")\n",
    "rss_eps = pd.read_csv(\"data/episodes/episodes_rss.csv\")\n",
    "\n",
    "episodes = pd.merge(earwolf_eps, rss_eps, on=[\"number\", \"bestOf\", \"live\"], how=\"inner\")\n",
    "\n",
    "episodes.rename(columns={\"guests_x\":\"guests\"}, inplace=True)\n",
    "del episodes['guests_y']\n",
    "\n",
    "episodes.to_csv(\"data/episodes/episodes_merged.csv\", index=False)"
   ]
  },
  {
   "source": [
    "### Remove duplicates and fix misspellings"
   ],
   "cell_type": "markdown",
   "metadata": {}
  },
  {
   "cell_type": "code",
   "execution_count": null,
   "metadata": {
    "tags": []
   },
   "outputs": [],
   "source": [
    "# Count number of appearances per guest\n",
    "\n",
    "episodes = pd.read_csv(\"data/episodes/episodes_merged_final.csv\")\n",
    "\n",
    "all_guests = []\n",
    "for guest_list in episodes[\"guests\"]:\n",
    "    for guest in json.loads(guest_list):\n",
    "        all_guests.append(guest)\n",
    "\n",
    "guest_appearances = pd.Series(name=\"numberOfAppearances\", data=all_guests).value_counts()\n",
    "guest_appearances.to_csv(\"data/guests/guests.csv\")"
   ]
  },
  {
   "cell_type": "code",
   "execution_count": null,
   "metadata": {
    "tags": []
   },
   "outputs": [],
   "source": [
    "importlib.reload(contentful)\n",
    "\n",
    "# Write all guests to contentful and track IDs\n",
    "\n",
    "guests = pd.read_csv(\"data/guests/guests.csv\", index_col=0)\n",
    "\n",
    "for i, row in guests.iterrows():\n",
    "    print(f\"Writing: {i}\")\n",
    "    res = contentful.write_guest(i)\n",
    "    guests.at[i, \"contentfulId\"] = res[\"sys\"][\"id\"]\n",
    "\n",
    "guests.to_csv(\"data/guests/guests_ids.csv\")"
   ]
  },
  {
   "cell_type": "code",
   "execution_count": null,
   "metadata": {
    "tags": [
     "outputPrepend"
    ]
   },
   "outputs": [],
   "source": [
    "importlib.reload(contentful)\n",
    "\n",
    "# Write all episodes to contentful\n",
    "\n",
    "guests = pd.read_csv(\"data/guests/guests_ids.csv\", index_col=0)\n",
    "episodes = pd.read_csv(\"data/episodes/episodes_merged_final.csv\")\n",
    "\n",
    "for i, row in episodes.iterrows():\n",
    "    print(f\"Writing: {row['number']} {row['title']}\")\n",
    "    guest_ids = [guests.loc[guest_name][\"contentfulId\"] for guest_name in json.loads(row[\"guests\"])]\n",
    "    res = contentful.write_episode(title=row[\"title\"], number=row[\"number\"], releaseDate=row[\"releaseDate\"], guest_ids=guest_ids, bestOf=row[\"bestOf\"], earwolfUrl=row[\"earwolfUrl\"])\n",
    "    episodes.at[i, \"contentfulId\"] = res[\"sys\"][\"id\"]\n",
    "\n",
    "episodes.to_csv(\"data/episodes/episodes_ids.csv\")"
   ]
  },
  {
   "cell_type": "code",
   "execution_count": null,
   "metadata": {},
   "outputs": [],
   "source": []
  }
 ],
 "metadata": {
  "kernelspec": {
   "display_name": "Python 3",
   "language": "python",
   "name": "python3"
  },
  "language_info": {
   "codemirror_mode": {
    "name": "ipython",
    "version": 3
   },
   "file_extension": ".py",
   "mimetype": "text/x-python",
   "name": "python",
   "nbconvert_exporter": "python",
   "pygments_lexer": "ipython3",
   "version": "3.8.2-final"
  }
 },
 "nbformat": 4,
 "nbformat_minor": 4
}