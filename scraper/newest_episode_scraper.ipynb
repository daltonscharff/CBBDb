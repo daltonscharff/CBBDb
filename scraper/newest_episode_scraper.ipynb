{
 "cells": [
  {
   "cell_type": "code",
   "execution_count": 1,
   "metadata": {},
   "outputs": [],
   "source": [
    "import pandas as pd\n",
    "import json\n",
    "import importlib\n",
    "import datetime\n",
    "import sys\n",
    "from sources import earwolf, rss\n",
    "import contentful_helper as contentful"
   ]
  },
  {
   "cell_type": "code",
   "execution_count": 2,
   "metadata": {},
   "outputs": [
    {
     "output_type": "stream",
     "name": "stdout",
     "text": [
      "STARTING RSS\n",
      "Could not parse number for Comedy Bang! Bang! Presents: We Have To Stop Talking TMNT on CBB\n",
      "Could not parse number for R U Talkin' R.E.M. RE: ME?\n",
      "Could not parse number for Bonus: Live from UCB Theatre New York\n",
      "Could not parse number for Bonus: Live from SF Sketch Fest\n",
      "Could not parse number for Bonus: Live from Vancouver Comedy Fest\n",
      "RSS DONE\n"
     ]
    }
   ],
   "source": [
    "rss_eps = rss.scrape()\n",
    "newest_saved_episode = contentful.get_newest_episode()"
   ]
  },
  {
   "cell_type": "code",
   "execution_count": 3,
   "metadata": {},
   "outputs": [
    {
     "output_type": "stream",
     "name": "stdout",
     "text": [
      "STARTING EARWOLF\n",
      "Could not parse number for <li>Ep #UB1 - <a href=\"/episode/bonus-the-mysterious-secrets-of-uncle-berties-botanarium-episode-1/\">Bonus! The Mysterious Secrets Of Uncle Bertie’s Botanarium – Episode 1</a> (<span>Jemaine Clement</span>)</li>\n",
      "Could not parse number for <li>Ep #B3 - <a href=\"/episode/live-from-ucb-ny/\">Live from UCB NY!</a> (<span>Zach Galifianakis</span>, <span>David Cross</span>, <span>Todd Barry</span>, <span>John Gemberling</span> &amp; <span>Ted Leo</span>)</li>\n",
      "Could not parse number for <li>Ep #B2 - <a href=\"/episode/live-from-sf-sketchfest/\">Live from SF Sketchfest!</a> (<span>Doug Benson</span>, <span>Michael Ian Black</span>, <span>Dana Gould</span>, <span>Paul F. Tompkins</span> &amp; <span>Reggie Watts</span>)</li>\n",
      "Could not parse number for <li>Ep #B1 - <a href=\"/episode/live-from-vancouver/\">Live from Vancouver!</a> (<span>Todd Barry</span>, <span>Nick Thune</span>, <span>Paul F. Tompkins</span>, <span>Garfunkel &amp; Oates</span> &amp; <span>Reggie Watts</span>)</li>\n",
      "Could not parse number for <li>Ep # - <a href=\"/episode/find-full-archive-of-comedy-bang-bang-on-stitcher-premium/\">Find Full Archive of Comedy Bang Bang on Stitcher Premium</a> </li>\n",
      "EARWOLF DONE\n"
     ]
    }
   ],
   "source": [
    "# Compare newest saved episode to newest from RSS\n",
    "\n",
    "newest_episode_date = pd.to_datetime(rss_eps[\"releaseDate\"]).max().date()\n",
    "newest_saved_episode_date = datetime.date.fromisoformat(newest_saved_episode[\"releaseDate\"])\n",
    "\n",
    "# if newest_episode_date <= newest_saved_episode_date:\n",
    "#     print(\"No new episodes\")\n",
    "#     sys.exit(0)\n",
    "\n",
    "earwolf_eps = earwolf.scrape()"
   ]
  },
  {
   "cell_type": "code",
   "execution_count": 4,
   "metadata": {},
   "outputs": [],
   "source": [
    "# Merge sources\n",
    "\n",
    "episodes = pd.merge(earwolf_eps, rss_eps, on=[\"number\", \"bestOf\", \"live\"], how=\"inner\")\n",
    "episodes.rename(columns={\"guests_x\":\"guests\"}, inplace=True)\n",
    "del episodes['guests_y']"
   ]
  },
  {
   "cell_type": "code",
   "execution_count": 42,
   "metadata": {},
   "outputs": [],
   "source": [
    "# Keep episodes newer than the newest saved episode\n",
    "\n",
    "new_episodes = []\n",
    "for i, row in episodes.iterrows():\n",
    "    if datetime.date.fromisoformat(row[\"releaseDate\"]) > newest_saved_episode_date:\n",
    "        new_episodes.append(row.to_dict())"
   ]
  },
  {
   "cell_type": "code",
   "execution_count": 9,
   "metadata": {},
   "outputs": [],
   "source": [
    "importlib.reload(contentful)\n",
    "\n",
    "# For each guest, save only if they are new, and get id\n",
    "\n",
    "for episode in new_episodes:\n",
    "    guest_ids = []\n",
    "    for guest in json.loads(episode[\"guests\"]):\n",
    "        id = contentful.get_guest(guest)\n",
    "        if id == None:\n",
    "            id = contentful.write_guest(guest)[\"sys\"][\"id\"]\n",
    "            contentful.publish(id)\n",
    "        guest_ids.append(id)\n",
    "    episode[\"guest_ids\"] = guest_ids"
   ]
  },
  {
   "cell_type": "code",
   "execution_count": 14,
   "metadata": {},
   "outputs": [],
   "source": [
    "# Write new episodes\n",
    "\n",
    "for episode in new_episodes:\n",
    "    id = contentful.write_episode(title=episode[\"title\"], number=episode[\"number\"],releaseDate=episode[\"releaseDate\"], guest_ids=episode[\"guest_ids\"], bestOf=episode[\"bestOf\"],earwolfUrl=episode[\"earwolfUrl\"])[\"sys\"][\"id\"]\n",
    "    contentful.publish(id)\n"
   ]
  },
  {
   "cell_type": "code",
   "execution_count": null,
   "metadata": {},
   "outputs": [],
   "source": []
  }
 ],
 "metadata": {
  "kernelspec": {
   "display_name": "Python 3",
   "language": "python",
   "name": "python3"
  },
  "language_info": {
   "codemirror_mode": {
    "name": "ipython",
    "version": 3
   },
   "file_extension": ".py",
   "mimetype": "text/x-python",
   "name": "python",
   "nbconvert_exporter": "python",
   "pygments_lexer": "ipython3",
   "version": "3.8.2-final"
  }
 },
 "nbformat": 4,
 "nbformat_minor": 4
}