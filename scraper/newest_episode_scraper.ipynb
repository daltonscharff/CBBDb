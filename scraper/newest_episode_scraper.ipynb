{
 "cells": [
  {
   "cell_type": "code",
   "execution_count": null,
   "metadata": {},
   "outputs": [],
   "source": [
    "import pandas as pd\n",
    "import json\n",
    "import importlib\n",
    "import datetime\n",
    "import sys\n",
    "from sources import earwolf, rss\n",
    "import contentful_helper as contentful"
   ]
  },
  {
   "cell_type": "code",
   "execution_count": null,
   "metadata": {},
   "outputs": [],
   "source": [
    "importlib.reload(contentful)\n",
    "\n",
    "rss_eps = rss.scrape()\n",
    "newest_saved_episode = contentful.get_newest_episode()"
   ]
  },
  {
   "cell_type": "code",
   "execution_count": null,
   "metadata": {},
   "outputs": [],
   "source": [
    "# Compare newest saved episode to newest from RSS\n",
    "\n",
    "newest_episode_date = pd.to_datetime(rss_eps[\"releaseDate\"]).max().date()\n",
    "newest_saved_episode_date = newest_saved_episode.fields()[\"release_date\"].date()\n",
    "\n",
    "if newest_episode_date <= newest_saved_episode_date:\n",
    "    print(\"No new episodes\")\n",
    "    sys.exit(0)\n",
    "\n",
    "earwolf_eps = earwolf.scrape()"
   ]
  },
  {
   "cell_type": "code",
   "execution_count": null,
   "metadata": {},
   "outputs": [],
   "source": [
    "# Merge sources\n",
    "\n",
    "episodes = pd.merge(earwolf_eps, rss_eps, on=[\"number\", \"bestOf\", \"live\"], how=\"inner\")\n",
    "episodes.rename(columns={\"guests_x\":\"guests\"}, inplace=True)\n",
    "del episodes['guests_y']"
   ]
  },
  {
   "cell_type": "code",
   "execution_count": null,
   "metadata": {},
   "outputs": [],
   "source": [
    "# Keep episodes newer than the newest saved episode\n",
    "\n",
    "new_episodes = []\n",
    "for i, row in episodes.iterrows():\n",
    "    if datetime.date.fromisoformat(row[\"releaseDate\"]) > newest_saved_episode_date:\n",
    "        new_episodes.append(row.to_dict())"
   ]
  },
  {
   "cell_type": "code",
   "execution_count": null,
   "metadata": {},
   "outputs": [],
   "source": [
    "# For each guest, save only if they are new, and get id\n",
    "\n",
    "for episode in new_episodes:\n",
    "    guest_ids = []\n",
    "    for guest in json.loads(episode[\"guests\"]):\n",
    "        g = contentful.get_guest(guest)\n",
    "        if g == None:\n",
    "            g = contentful.write_guest(guest)\n",
    "            contentful.publish(g.id)\n",
    "        guest_ids.append(g.id)\n",
    "    episode[\"guest_ids\"] = guest_ids"
   ]
  },
  {
   "cell_type": "code",
   "execution_count": null,
   "metadata": {},
   "outputs": [],
   "source": [
    "# Write new episodes\n",
    "\n",
    "for episode in new_episodes:\n",
    "    id = contentful.write_episode(title=episode[\"title\"], number=episode[\"number\"],releaseDate=episode[\"releaseDate\"], guest_ids=episode[\"guest_ids\"], bestOf=episode[\"bestOf\"],earwolfUrl=episode[\"earwolfUrl\"]).id\n",
    "    contentful.publish(id)"
   ]
  }
 ],
 "metadata": {
  "kernelspec": {
   "display_name": "Python 3",
   "language": "python",
   "name": "python3"
  },
  "language_info": {
   "codemirror_mode": {
    "name": "ipython",
    "version": 3
   },
   "file_extension": ".py",
   "mimetype": "text/x-python",
   "name": "python",
   "nbconvert_exporter": "python",
   "pygments_lexer": "ipython3",
   "version": "3.8.2-final"
  }
 },
 "nbformat": 4,
 "nbformat_minor": 4
}